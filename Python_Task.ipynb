{
  "nbformat": 4,
  "nbformat_minor": 0,
  "metadata": {
    "colab": {
      "provenance": []
    },
    "kernelspec": {
      "name": "python3",
      "display_name": "Python 3"
    },
    "language_info": {
      "name": "python"
    }
  },
  "cells": [
    {
      "cell_type": "code",
      "execution_count": null,
      "metadata": {
        "id": "lWn68Fan_wAb"
      },
      "outputs": [],
      "source": []
    },
    {
      "cell_type": "code",
      "source": [
        "print(\"Hello World!\")"
      ],
      "metadata": {
        "colab": {
          "base_uri": "https://localhost:8080/"
        },
        "id": "8HTOssst_0SK",
        "outputId": "76b30509-d57c-4b02-9f3f-338c01bdd17e"
      },
      "execution_count": 4,
      "outputs": [
        {
          "output_type": "stream",
          "name": "stdout",
          "text": [
            "Hello World!\n"
          ]
        }
      ]
    },
    {
      "cell_type": "code",
      "source": [
        "a=3\n",
        "b= 7.5\n",
        "#Addition\n",
        "c=a+b\n",
        "print(\"The sum of two numbers is\",c)"
      ],
      "metadata": {
        "colab": {
          "base_uri": "https://localhost:8080/"
        },
        "id": "u0PEelItA49I",
        "outputId": "e1c7f1b7-49ff-4085-8bfa-b2d9df6075ea"
      },
      "execution_count": 5,
      "outputs": [
        {
          "output_type": "stream",
          "name": "stdout",
          "text": [
            "The sum of two numbers is 10.5\n"
          ]
        }
      ]
    },
    {
      "cell_type": "code",
      "source": [
        "j=float(input(\"Enter the first number\"))\n",
        "k=float(input(\"Enter the second number\"))\n",
        "l=j*k\n",
        "print(\"The product of two number is\",l)"
      ],
      "metadata": {
        "colab": {
          "base_uri": "https://localhost:8080/"
        },
        "id": "x0TXtQOYBdE9",
        "outputId": "6f62a472-f9e5-4e85-80bf-9ae4a305fbd7"
      },
      "execution_count": 6,
      "outputs": [
        {
          "output_type": "stream",
          "name": "stdout",
          "text": [
            "Enter the first number738\n",
            "Enter the second number56\n",
            "The product of two number is 41328.0\n"
          ]
        }
      ]
    }
  ]
}